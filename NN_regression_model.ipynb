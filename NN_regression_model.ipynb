{
  "cells": [
    {
      "cell_type": "code",
      "execution_count": null,
      "metadata": {
        "id": "VJOBET7aZuAs"
      },
      "outputs": [],
      "source": [
        "import torch\n",
        "import torch.nn as nn\n",
        "import torch.optim as optim\n",
        "import pandas as pd\n",
        "from sklearn.model_selection import train_test_split\n",
        "from sklearn.preprocessing import MinMaxScaler"
      ]
    },
    {
      "cell_type": "code",
      "execution_count": null,
      "metadata": {
        "id": "PaKxT9lYZ7_r"
      },
      "outputs": [],
      "source": [
        "dataset1 = pd.read_csv('MyMLData.csv')\n",
        "X = dataset1[['Input']].values\n",
        "y = dataset1[['Output']].values"
      ]
    },
    {
      "cell_type": "code",
      "execution_count": null,
      "metadata": {
        "id": "0s9XNKnraBB1"
      },
      "outputs": [],
      "source": [
        "X_train, X_test, y_train, y_test = train_test_split(X, y, test_size=0.33, random_state=33)"
      ]
    },
    {
      "cell_type": "code",
      "execution_count": null,
      "metadata": {
        "id": "YhvC6ogzaEHT"
      },
      "outputs": [],
      "source": [
        "scaler = MinMaxScaler()\n",
        "X_train = scaler.fit_transform(X_train)\n",
        "X_test = scaler.transform(X_test)"
      ]
    },
    {
      "cell_type": "code",
      "execution_count": null,
      "metadata": {
        "id": "ht0VjANUaImU"
      },
      "outputs": [],
      "source": [
        "X_train_tensor = torch.tensor(X_train, dtype=torch.float32)\n",
        "y_train_tensor = torch.tensor(y_train, dtype=torch.float32).view(-1, 1)\n",
        "X_test_tensor = torch.tensor(X_test, dtype=torch.float32)\n",
        "y_test_tensor = torch.tensor(y_test, dtype=torch.float32).view(-1, 1)"
      ]
    },
    {
      "cell_type": "code",
      "execution_count": null,
      "metadata": {
        "id": "sFkMMUXwIsxs"
      },
      "outputs": [],
      "source": [
        "#Name:Guru Raghav Ponjeevith\n",
        "#Reg No:212223220027\n",
        "class NeuralNet(nn.Module):\n",
        "  def __init__(self):\n",
        "    super().__init__()\n",
        "    self.fc1 = nn. Linear (1, 12)\n",
        "    self.fc2 = nn. Linear (12, 10)\n",
        "    self.fc3 = nn. Linear (10, 12)\n",
        "    self.fc4=nn.Linear(12,1)\n",
        "    self.relu = nn.ReLU()\n",
        "    self.history = {'loss': []}\n",
        "\n",
        "def forward(self, x):\n",
        "\n",
        "  x = self.relu(self.fc1(x))\n",
        "  x = self.relu(self.fc2(x))\n",
        "  x = self.relu(self.fc3(x))\n",
        "  x = self.fc4(x) # No activation here since it's a regression t.\n",
        "  return x\n",
        "\n",
        "\n",
        "\n",
        "\n"
      ]
    },
    {
      "cell_type": "code",
      "execution_count": null,
      "metadata": {
        "id": "LYCcZwd3aVXr"
      },
      "outputs": [],
      "source": [
        "# Initialize the Model, Loss Function, and Optimizer\n",
        "# Write your code here\n",
        "ai_brain = NeuralNet()\n",
        "criterion = nn.MSELoss()\n",
        "optimizer = optim. RMSprop(ai_brain.parameters(), lr=0.001)\n",
        "\n"
      ]
    },
    {
      "cell_type": "code",
      "execution_count": null,
      "metadata": {
        "id": "j04FRGu5aabj"
      },
      "outputs": [],
      "source": [
        "def train_model (ai_brain, X_train, y_train, criterion, optimizer, epochs=2000):\n",
        "    for epoch in range(epochs):\n",
        "        optimizer.zero_grad()\n",
        "        loss = criterion (ai_brain (X_train), y_train)\n",
        "        loss.backward()\n",
        "        optimizer.step()\n",
        "        ai_brain.history['loss'].append(loss.item())\n",
        "        if epoch % 200 == 0:\n",
        "            print(f'Epoch [{epoch}/{epochs}], Loss: {loss.item():.6f}')"
      ]
    },
    {
      "cell_type": "code",
      "execution_count": null,
      "metadata": {
        "id": "3nT2R4-NanGb"
      },
      "outputs": [],
      "source": [
        "train_model(ai_brain, X_train_tensor, y_train_tensor, criterion, optimizer)\n"
      ]
    },
    {
      "cell_type": "code",
      "execution_count": null,
      "metadata": {
        "id": "Hs52rJD-aq-r"
      },
      "outputs": [],
      "source": [
        "with torch.no_grad():\n",
        "    test_loss = criterion(ai_brain(X_test_tensor), y_test_tensor)\n",
        "    print(f'Test Loss: {test_loss.item():.6f}')\n"
      ]
    },
    {
      "cell_type": "code",
      "execution_count": null,
      "metadata": {
        "id": "fSU0R1jPYzBY"
      },
      "outputs": [],
      "source": [
        "loss_df = pd.DataFrame(ai_brain.history)"
      ]
    },
    {
      "cell_type": "code",
      "execution_count": null,
      "metadata": {
        "id": "XRU1WLwAZuh4"
      },
      "outputs": [],
      "source": [
        "import matplotlib.pyplot as plt\n",
        "loss_df.plot()\n",
        "plt.xlabel(\"Epochs\")\n",
        "plt.ylabel(\"Loss\")\n",
        "plt.title(\"Loss during Training\")\n",
        "plt.show()"
      ]
    },
    {
      "cell_type": "code",
      "execution_count": null,
      "metadata": {
        "id": "mr_JhBRZauxb"
      },
      "outputs": [],
      "source": [
        "X_n1_1 = torch.tensor([[9]], dtype=torch.float32)\n",
        "prediction = ai_brain(torch.tensor(scaler.transform(X_n1_1), dtype=torch.float32)).item()\n",
        "print(f'Prediction: {prediction}')"
      ]
    }
  ],
  "metadata": {
    "colab": {
      "provenance": []
    },
    "kernelspec": {
      "display_name": "Python 3",
      "name": "python3"
    },
    "language_info": {
      "name": "python"
    }
  },
  "nbformat": 4,
  "nbformat_minor": 0
}
